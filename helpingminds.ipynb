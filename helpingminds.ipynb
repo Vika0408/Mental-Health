{
  "nbformat": 4,
  "nbformat_minor": 0,
  "metadata": {
    "colab": {
      "provenance": [],
      "gpuType": "T4",
      "authorship_tag": "ABX9TyOmzgnu4smcHcqjRGn0mzyY",
      "include_colab_link": true
    },
    "kernelspec": {
      "name": "python3",
      "display_name": "Python 3"
    },
    "language_info": {
      "name": "python"
    },
    "accelerator": "GPU"
  },
  "cells": [
    {
      "cell_type": "markdown",
      "metadata": {
        "id": "view-in-github",
        "colab_type": "text"
      },
      "source": [
        "<a href=\"https://colab.research.google.com/github/Vika0408/Mental-Health/blob/main/helpingminds.ipynb\" target=\"_parent\"><img src=\"https://colab.research.google.com/assets/colab-badge.svg\" alt=\"Open In Colab\"/></a>"
      ]
    },
    {
      "cell_type": "code",
      "execution_count": null,
      "metadata": {
        "colab": {
          "base_uri": "https://localhost:8080/"
        },
        "id": "Brd_En9JHrC6",
        "outputId": "d3d73387-3354-4d7e-c5c4-952e517ecbbe"
      },
      "outputs": [
        {
          "output_type": "stream",
          "name": "stdout",
          "text": [
            "Requirement already satisfied: kagglehub in /usr/local/lib/python3.11/dist-packages (0.3.10)\n",
            "Requirement already satisfied: packaging in /usr/local/lib/python3.11/dist-packages (from kagglehub) (24.2)\n",
            "Requirement already satisfied: pyyaml in /usr/local/lib/python3.11/dist-packages (from kagglehub) (6.0.2)\n",
            "Requirement already satisfied: requests in /usr/local/lib/python3.11/dist-packages (from kagglehub) (2.32.3)\n",
            "Requirement already satisfied: tqdm in /usr/local/lib/python3.11/dist-packages (from kagglehub) (4.67.1)\n",
            "Requirement already satisfied: charset-normalizer<4,>=2 in /usr/local/lib/python3.11/dist-packages (from requests->kagglehub) (3.4.1)\n",
            "Requirement already satisfied: idna<4,>=2.5 in /usr/local/lib/python3.11/dist-packages (from requests->kagglehub) (3.10)\n",
            "Requirement already satisfied: urllib3<3,>=1.21.1 in /usr/local/lib/python3.11/dist-packages (from requests->kagglehub) (2.3.0)\n",
            "Requirement already satisfied: certifi>=2017.4.17 in /usr/local/lib/python3.11/dist-packages (from requests->kagglehub) (2025.1.31)\n"
          ]
        }
      ],
      "source": [
        "! pip install kagglehub"
      ]
    },
    {
      "cell_type": "code",
      "source": [
        "import kagglehub\n",
        "\n",
        "# Download the dataset\n",
        "path = kagglehub.dataset_download(\"zaber666/meld-dataset\")\n",
        "\n",
        "print(\"Path to dataset files:\", path)\n"
      ],
      "metadata": {
        "colab": {
          "base_uri": "https://localhost:8080/"
        },
        "id": "oC-KhdXsIK5T",
        "outputId": "3c3fddd1-39a9-4d02-c4d1-5f0f83425b06"
      },
      "execution_count": null,
      "outputs": [
        {
          "output_type": "stream",
          "name": "stdout",
          "text": [
            "Path to dataset files: /root/.cache/kagglehub/datasets/zaber666/meld-dataset/versions/1\n"
          ]
        }
      ]
    },
    {
      "cell_type": "code",
      "source": [
        "import os\n",
        "import pandas as pd\n",
        "import numpy as np\n",
        "import tensorflow as tf\n",
        "import pickle\n",
        "from tensorflow.keras.preprocessing.text import Tokenizer\n",
        "from tensorflow.keras.preprocessing.sequence import pad_sequences\n",
        "from sklearn.model_selection import train_test_split\n",
        "from sklearn.preprocessing import LabelEncoder"
      ],
      "metadata": {
        "id": "zpGuMB5wLIGy"
      },
      "execution_count": null,
      "outputs": []
    },
    {
      "cell_type": "code",
      "source": [
        "DATASET_PATH = \"/root/.cache/kagglehub/datasets/zaber666/meld-dataset/versions/1\"\n"
      ],
      "metadata": {
        "id": "ri7wnIV6LXaD"
      },
      "execution_count": null,
      "outputs": []
    },
    {
      "cell_type": "code",
      "source": [
        "df = pd.read_csv('/root/.cache/kagglehub/datasets/zaber666/meld-dataset/versions/1/MELD-RAW/MELD.Raw/train/train_sent_emo.csv')"
      ],
      "metadata": {
        "id": "m0XJ8XlHMMae"
      },
      "execution_count": null,
      "outputs": []
    },
    {
      "cell_type": "code",
      "source": [
        "# Extract Text & Labels\n",
        "texts = df[\"Utterance\"].astype(str).tolist()\n",
        "sentiments = df[\"Sentiment\"].tolist()  # Positive, Negative, Neutral\n",
        "emotions = df[\"Emotion\"].tolist()  # Excited, Sad, Angry, etc.\n"
      ],
      "metadata": {
        "id": "f0BdFGIeNYxo"
      },
      "execution_count": null,
      "outputs": []
    },
    {
      "cell_type": "code",
      "source": [
        "# Tokenize Text\n",
        "VOCAB_SIZE = 10000\n",
        "MAX_SEQUENCE_LENGTH = 100"
      ],
      "metadata": {
        "id": "X2aAq505NdqX"
      },
      "execution_count": null,
      "outputs": []
    },
    {
      "cell_type": "code",
      "source": [
        "tokenizer = Tokenizer(num_words=VOCAB_SIZE, oov_token=\"<OOV>\")\n",
        "tokenizer.fit_on_texts(texts)\n",
        "sequences = tokenizer.texts_to_sequences(texts)\n",
        "padded_sequences = pad_sequences(sequences, maxlen=MAX_SEQUENCE_LENGTH, padding=\"post\")"
      ],
      "metadata": {
        "id": "tUYChRfANhoD"
      },
      "execution_count": null,
      "outputs": []
    },
    {
      "cell_type": "code",
      "source": [
        "# Convert Sentiments & Emotions to Numeric Labels\n",
        "sentiment_encoder = LabelEncoder()\n",
        "sentiment_labels = sentiment_encoder.fit_transform(sentiments)"
      ],
      "metadata": {
        "id": "lZWZKOxnNltb"
      },
      "execution_count": null,
      "outputs": []
    },
    {
      "cell_type": "code",
      "source": [
        "emotion_encoder = LabelEncoder()\n",
        "emotion_labels = emotion_encoder.fit_transform(emotions)"
      ],
      "metadata": {
        "id": "hECu8w3VNpgb"
      },
      "execution_count": null,
      "outputs": []
    },
    {
      "cell_type": "code",
      "source": [
        "# Split into Train & Test Sets\n",
        "X_train, X_test, y_train_sentiment, y_test_sentiment, y_train_emotion, y_test_emotion = train_test_split(\n",
        "    padded_sequences, sentiment_labels, emotion_labels, test_size=0.2, random_state=42\n",
        ")"
      ],
      "metadata": {
        "id": "YTCtAIg9NtPQ"
      },
      "execution_count": null,
      "outputs": []
    },
    {
      "cell_type": "code",
      "source": [
        "# Convert labels to NumPy arrays to ensure uniform shape\n",
        "y_train_sentiment = np.array(y_train_sentiment)\n",
        "y_test_sentiment = np.array(y_test_sentiment)\n",
        "y_train_emotion = np.array(y_train_emotion)\n",
        "y_test_emotion = np.array(y_test_emotion)"
      ],
      "metadata": {
        "id": "hR6i-O6QNwov"
      },
      "execution_count": null,
      "outputs": []
    },
    {
      "cell_type": "code",
      "source": [
        "# Save Preprocessed Data\n",
        "np.save(\"X_train.npy\", X_train)\n",
        "np.save(\"X_test.npy\", X_test)\n",
        "np.save(\"y_train_sentiment.npy\", y_train_sentiment)\n",
        "np.save(\"y_test_sentiment.npy\", y_test_sentiment)\n",
        "np.save(\"y_train_emotion.npy\", y_train_emotion)\n",
        "np.save(\"y_test_emotion.npy\", y_test_emotion)"
      ],
      "metadata": {
        "id": "lOhCrIaSPOer"
      },
      "execution_count": null,
      "outputs": []
    },
    {
      "cell_type": "code",
      "source": [
        "# Save Tokenizer & Label Mappings\n",
        "with open(\"tokenizer.pkl\", \"wb\") as handle:\n",
        "    pickle.dump(tokenizer, handle)"
      ],
      "metadata": {
        "id": "D7COcjP9PSCp"
      },
      "execution_count": null,
      "outputs": []
    },
    {
      "cell_type": "code",
      "source": [
        "with open(\"sentiment_labels.pkl\", \"wb\") as handle:\n",
        "    pickle.dump(sentiment_encoder.classes_, handle)"
      ],
      "metadata": {
        "id": "OfymStQgPeeJ"
      },
      "execution_count": null,
      "outputs": []
    },
    {
      "cell_type": "code",
      "source": [
        "with open(\"emotion_labels.pkl\", \"wb\") as handle:\n",
        "    pickle.dump(emotion_encoder.classes_, handle)"
      ],
      "metadata": {
        "id": "DILIpkxsPkDY"
      },
      "execution_count": null,
      "outputs": []
    },
    {
      "cell_type": "code",
      "source": [
        "print(\"✅ Data preprocessing complete! Files saved.\")"
      ],
      "metadata": {
        "colab": {
          "base_uri": "https://localhost:8080/"
        },
        "id": "XSe6FdqsPnD8",
        "outputId": "ac5591ee-f252-470b-bb8e-4ae711259db6"
      },
      "execution_count": null,
      "outputs": [
        {
          "output_type": "stream",
          "name": "stdout",
          "text": [
            "✅ Data preprocessing complete! Files saved.\n"
          ]
        }
      ]
    },
    {
      "cell_type": "code",
      "source": [
        "import numpy as np\n",
        "\n",
        "# Reload preprocessed data\n",
        "X_train, X_test, y_train_sentiment, y_test_sentiment, y_train_emotion, y_test_emotion = train_test_split(\n",
        "    padded_sequences, sentiment_labels, emotion_labels, test_size=0.2, random_state=42\n",
        ")\n",
        "\n",
        "# Ensure all arrays have the correct shape before saving\n",
        "print(\"Shapes:\")\n",
        "print(f\"X_train: {X_train.shape}, X_test: {X_test.shape}\")\n",
        "print(f\"y_train_sentiment: {y_train_sentiment.shape}, y_test_sentiment: {y_test_sentiment.shape}\")\n",
        "print(f\"y_train_emotion: {y_train_emotion.shape}, y_test_emotion: {y_test_emotion.shape}\")\n",
        "\n",
        "# Save data separately in a compressed file\n",
        "np.savez_compressed(\"train_test_data.npz\",\n",
        "                    X_train=X_train, X_test=X_test,\n",
        "                    y_train_sentiment=y_train_sentiment, y_test_sentiment=y_test_sentiment,\n",
        "                    y_train_emotion=y_train_emotion, y_test_emotion=y_test_emotion)\n",
        "\n",
        "print(\"✅ Data successfully saved!\")\n"
      ],
      "metadata": {
        "colab": {
          "base_uri": "https://localhost:8080/"
        },
        "id": "PLG5C-EAP53G",
        "outputId": "fa054be9-89ff-41f3-a9ed-f7a808b178ee"
      },
      "execution_count": null,
      "outputs": [
        {
          "output_type": "stream",
          "name": "stdout",
          "text": [
            "Shapes:\n",
            "X_train: (7991, 100), X_test: (1998, 100)\n",
            "y_train_sentiment: (7991,), y_test_sentiment: (1998,)\n",
            "y_train_emotion: (7991,), y_test_emotion: (1998,)\n",
            "✅ Data successfully saved!\n"
          ]
        }
      ]
    },
    {
      "cell_type": "code",
      "source": [
        "import tensorflow as tf\n",
        "from tensorflow.keras.models import Model\n",
        "from tensorflow.keras.layers import Input, Embedding, LSTM, Dense, Dropout\n",
        "import numpy as np\n",
        "import pickle"
      ],
      "metadata": {
        "id": "GdlQDdJwQh9L"
      },
      "execution_count": null,
      "outputs": []
    },
    {
      "cell_type": "code",
      "source": [
        "import os\n",
        "\n",
        "file_path = \"train_test_data.npz\"\n",
        "if os.path.exists(file_path):\n",
        "    print(f\"File exists. Size: {os.path.getsize(file_path)} bytes\")\n",
        "else:\n",
        "    print(\"File does not exist.\")\n"
      ],
      "metadata": {
        "colab": {
          "base_uri": "https://localhost:8080/"
        },
        "id": "7DN8W9H8RCvW",
        "outputId": "f666f1d4-1e1c-4dc6-d151-6dfef3dc89a1"
      },
      "execution_count": null,
      "outputs": [
        {
          "output_type": "stream",
          "name": "stdout",
          "text": [
            "File does not exist.\n"
          ]
        }
      ]
    },
    {
      "cell_type": "code",
      "source": [
        "import os\n",
        "\n",
        "file_path = \"train_test_data.npz\"\n",
        "if os.path.exists(file_path):\n",
        "    os.remove(file_path)\n",
        "    print(\"✅ Deleted empty file. Ready to save again.\")\n"
      ],
      "metadata": {
        "colab": {
          "base_uri": "https://localhost:8080/"
        },
        "id": "BoePkfkSRPVi",
        "outputId": "6a1f0f35-ad9b-4137-814e-dc7cfe77df0d"
      },
      "execution_count": null,
      "outputs": [
        {
          "output_type": "stream",
          "name": "stdout",
          "text": [
            "✅ Deleted empty file. Ready to save again.\n"
          ]
        }
      ]
    },
    {
      "cell_type": "code",
      "source": [
        "import numpy as np\n",
        "\n",
        "# Convert all lists to numpy arrays\n",
        "X_train = np.array(X_train)\n",
        "X_test = np.array(X_test)\n",
        "y_train_sentiment = np.array(y_train_sentiment)\n",
        "y_test_sentiment = np.array(y_test_sentiment)\n",
        "y_train_emotion = np.array(y_train_emotion)\n",
        "y_test_emotion = np.array(y_test_emotion)\n",
        "\n",
        "# Ensure all arrays have the same length in the first dimension\n",
        "print(f\"Shapes:\\nX_train: {X_train.shape}, X_test: {X_test.shape}\")\n",
        "print(f\"y_train_sentiment: {y_train_sentiment.shape}, y_test_sentiment: {y_test_sentiment.shape}\")\n",
        "print(f\"y_train_emotion: {y_train_emotion.shape}, y_test_emotion: {y_test_emotion.shape}\")\n",
        "\n",
        "# Save as a dictionary instead\n",
        "data_dict = {\n",
        "    \"X_train\": X_train,\n",
        "    \"X_test\": X_test,\n",
        "    \"y_train_sentiment\": y_train_sentiment,\n",
        "    \"y_test_sentiment\": y_test_sentiment,\n",
        "    \"y_train_emotion\": y_train_emotion,\n",
        "    \"y_test_emotion\": y_test_emotion\n",
        "}\n",
        "\n",
        "# Save using np.savez (handles multiple arrays properly)\n",
        "np.savez(\"train_test_data.npz\", **data_dict)\n",
        "print(\"✅ Data successfully saved as .npz!\")\n"
      ],
      "metadata": {
        "colab": {
          "base_uri": "https://localhost:8080/"
        },
        "id": "ZMq1sRjLRQ_K",
        "outputId": "7fc2629c-4ad8-462a-99ac-fbeb6872f5b8"
      },
      "execution_count": null,
      "outputs": [
        {
          "output_type": "stream",
          "name": "stdout",
          "text": [
            "Shapes:\n",
            "X_train: (3600, 100), X_test: (1000, 100)\n",
            "y_train_sentiment: (3600,), y_test_sentiment: (1000,)\n",
            "y_train_emotion: (3600,), y_test_emotion: (1000,)\n",
            "✅ Data successfully saved as .npz!\n"
          ]
        }
      ]
    },
    {
      "cell_type": "code",
      "source": [
        "loaded_data = np.load(\"train_test_data.npz\")\n",
        "\n",
        "X_train = loaded_data[\"X_train\"]\n",
        "X_test = loaded_data[\"X_test\"]\n",
        "y_train_sentiment = loaded_data[\"y_train_sentiment\"]\n",
        "y_test_sentiment = loaded_data[\"y_test_sentiment\"]\n",
        "y_train_emotion = loaded_data[\"y_train_emotion\"]\n",
        "y_test_emotion = loaded_data[\"y_test_emotion\"]\n",
        "\n",
        "print(\"✅ Data successfully loaded!\")\n"
      ],
      "metadata": {
        "colab": {
          "base_uri": "https://localhost:8080/"
        },
        "id": "DoY3HzlqRZb-",
        "outputId": "5d33ba41-6b3f-4f87-ddf8-0b7073d5333f"
      },
      "execution_count": null,
      "outputs": [
        {
          "output_type": "stream",
          "name": "stdout",
          "text": [
            "✅ Data successfully loaded!\n"
          ]
        }
      ]
    },
    {
      "cell_type": "code",
      "source": [
        "import os\n",
        "\n",
        "file_path = \"train_test_data.npz\"\n",
        "if os.path.exists(file_path):\n",
        "    print(f\"File exists. Size: {os.path.getsize(file_path)} bytes\")\n",
        "else:\n",
        "    print(\"File does not exist.\")"
      ],
      "metadata": {
        "colab": {
          "base_uri": "https://localhost:8080/"
        },
        "id": "0hxi4SgBcttr",
        "outputId": "291782ea-6da5-471c-b00f-878960d80ba7"
      },
      "execution_count": null,
      "outputs": [
        {
          "output_type": "stream",
          "name": "stdout",
          "text": [
            "File exists. Size: 3718364 bytes\n"
          ]
        }
      ]
    },
    {
      "cell_type": "code",
      "source": [
        "import tensorflow as tf\n",
        "from tensorflow.keras.layers import (Embedding, LSTM, Dense, Bidirectional, Dropout, Input,\n",
        "                                     MultiHeadAttention, LayerNormalization, GlobalAveragePooling1D, Masking)\n",
        "from tensorflow.keras.models import Model\n",
        "from tensorflow.keras.optimizers import AdamW\n",
        "\n",
        "# Define model parameters\n",
        "VOCAB_SIZE = 10000\n",
        "EMBEDDING_DIM = 128\n",
        "LSTM_UNITS = 512  # Increased for better learning\n",
        "MAX_SEQUENCE_LENGTH = 100\n",
        "DROPOUT_RATE = 0.3  # Reduced to prevent excessive dropout\n",
        "\n",
        "# Input layer\n",
        "inputs = Input(shape=(MAX_SEQUENCE_LENGTH,))\n",
        "\n",
        "# Embedding layer with masking\n",
        "x = Embedding(VOCAB_SIZE, EMBEDDING_DIM, mask_zero=True)(inputs)\n",
        "\n",
        "# Bidirectional LSTM with dropout\n",
        "x = Bidirectional(LSTM(LSTM_UNITS, return_sequences=True, dropout=DROPOUT_RATE))(x)\n",
        "\n",
        "# Multi-Head Self-Attention (fixes previous Attention layer issues)\n",
        "attention_output = MultiHeadAttention(num_heads=4, key_dim=LSTM_UNITS)(x, x)\n",
        "x = LayerNormalization()(x + attention_output)\n",
        "\n",
        "# Global Pooling\n",
        "x = GlobalAveragePooling1D()(x)\n",
        "\n",
        "# Sentiment output\n",
        "sentiment_output = Dense(3, activation=\"softmax\", name=\"sentiment_output\")(x)\n",
        "\n",
        "# Emotion output\n",
        "emotion_output = Dense(7, activation=\"softmax\", name=\"emotion_output\")(x)\n",
        "\n",
        "# Build the model\n",
        "model = Model(inputs, outputs=[sentiment_output, emotion_output])\n",
        "\n",
        "# Compile the model with AdamW optimizer and lower learning rate\n",
        "model.compile(\n",
        "    optimizer=AdamW(learning_rate=0.0003, weight_decay=1e-5),\n",
        "    loss={\"sentiment_output\": \"sparse_categorical_crossentropy\", \"emotion_output\": \"sparse_categorical_crossentropy\"},\n",
        "    metrics={\"sentiment_output\": \"accuracy\", \"emotion_output\": \"accuracy\"},\n",
        ")\n"
      ],
      "metadata": {
        "id": "FRxLn0srR9FT"
      },
      "execution_count": null,
      "outputs": []
    },
    {
      "cell_type": "code",
      "source": [
        "# Model Summary\n",
        "model.summary()"
      ],
      "metadata": {
        "colab": {
          "base_uri": "https://localhost:8080/",
          "height": 577
        },
        "id": "D4yxfYOYSwQD",
        "outputId": "092a6820-63c3-4d0a-fe8e-b9614104a394"
      },
      "execution_count": null,
      "outputs": [
        {
          "output_type": "display_data",
          "data": {
            "text/plain": [
              "\u001b[1mModel: \"functional_4\"\u001b[0m\n"
            ],
            "text/html": [
              "<pre style=\"white-space:pre;overflow-x:auto;line-height:normal;font-family:Menlo,'DejaVu Sans Mono',consolas,'Courier New',monospace\"><span style=\"font-weight: bold\">Model: \"functional_4\"</span>\n",
              "</pre>\n"
            ]
          },
          "metadata": {}
        },
        {
          "output_type": "display_data",
          "data": {
            "text/plain": [
              "┏━━━━━━━━━━━━━━━━━━━━━━━━━━━┳━━━━━━━━━━━━━━━━━━━━━━━━┳━━━━━━━━━━━━━━━━┳━━━━━━━━━━━━━━━━━━━━━━━━┓\n",
              "┃\u001b[1m \u001b[0m\u001b[1mLayer (type)             \u001b[0m\u001b[1m \u001b[0m┃\u001b[1m \u001b[0m\u001b[1mOutput Shape          \u001b[0m\u001b[1m \u001b[0m┃\u001b[1m \u001b[0m\u001b[1m       Param #\u001b[0m\u001b[1m \u001b[0m┃\u001b[1m \u001b[0m\u001b[1mConnected to          \u001b[0m\u001b[1m \u001b[0m┃\n",
              "┡━━━━━━━━━━━━━━━━━━━━━━━━━━━╇━━━━━━━━━━━━━━━━━━━━━━━━╇━━━━━━━━━━━━━━━━╇━━━━━━━━━━━━━━━━━━━━━━━━┩\n",
              "│ input_layer_4             │ (\u001b[38;5;45mNone\u001b[0m, \u001b[38;5;34m100\u001b[0m)            │              \u001b[38;5;34m0\u001b[0m │ -                      │\n",
              "│ (\u001b[38;5;33mInputLayer\u001b[0m)              │                        │                │                        │\n",
              "├───────────────────────────┼────────────────────────┼────────────────┼────────────────────────┤\n",
              "│ embedding_4 (\u001b[38;5;33mEmbedding\u001b[0m)   │ (\u001b[38;5;45mNone\u001b[0m, \u001b[38;5;34m100\u001b[0m, \u001b[38;5;34m128\u001b[0m)       │      \u001b[38;5;34m1,280,000\u001b[0m │ input_layer_4[\u001b[38;5;34m0\u001b[0m][\u001b[38;5;34m0\u001b[0m]    │\n",
              "├───────────────────────────┼────────────────────────┼────────────────┼────────────────────────┤\n",
              "│ not_equal_4 (\u001b[38;5;33mNotEqual\u001b[0m)    │ (\u001b[38;5;45mNone\u001b[0m, \u001b[38;5;34m100\u001b[0m)            │              \u001b[38;5;34m0\u001b[0m │ input_layer_4[\u001b[38;5;34m0\u001b[0m][\u001b[38;5;34m0\u001b[0m]    │\n",
              "├───────────────────────────┼────────────────────────┼────────────────┼────────────────────────┤\n",
              "│ bidirectional_4           │ (\u001b[38;5;45mNone\u001b[0m, \u001b[38;5;34m100\u001b[0m, \u001b[38;5;34m1024\u001b[0m)      │      \u001b[38;5;34m2,625,536\u001b[0m │ embedding_4[\u001b[38;5;34m0\u001b[0m][\u001b[38;5;34m0\u001b[0m],     │\n",
              "│ (\u001b[38;5;33mBidirectional\u001b[0m)           │                        │                │ not_equal_4[\u001b[38;5;34m0\u001b[0m][\u001b[38;5;34m0\u001b[0m]      │\n",
              "├───────────────────────────┼────────────────────────┼────────────────┼────────────────────────┤\n",
              "│ multi_head_attention      │ (\u001b[38;5;45mNone\u001b[0m, \u001b[38;5;34m100\u001b[0m, \u001b[38;5;34m1024\u001b[0m)      │      \u001b[38;5;34m8,395,776\u001b[0m │ bidirectional_4[\u001b[38;5;34m0\u001b[0m][\u001b[38;5;34m0\u001b[0m], │\n",
              "│ (\u001b[38;5;33mMultiHeadAttention\u001b[0m)      │                        │                │ bidirectional_4[\u001b[38;5;34m0\u001b[0m][\u001b[38;5;34m0\u001b[0m], │\n",
              "│                           │                        │                │ not_equal_4[\u001b[38;5;34m0\u001b[0m][\u001b[38;5;34m0\u001b[0m],     │\n",
              "│                           │                        │                │ not_equal_4[\u001b[38;5;34m0\u001b[0m][\u001b[38;5;34m0\u001b[0m]      │\n",
              "├───────────────────────────┼────────────────────────┼────────────────┼────────────────────────┤\n",
              "│ add_4 (\u001b[38;5;33mAdd\u001b[0m)               │ (\u001b[38;5;45mNone\u001b[0m, \u001b[38;5;34m100\u001b[0m, \u001b[38;5;34m1024\u001b[0m)      │              \u001b[38;5;34m0\u001b[0m │ bidirectional_4[\u001b[38;5;34m0\u001b[0m][\u001b[38;5;34m0\u001b[0m], │\n",
              "│                           │                        │                │ multi_head_attention[\u001b[38;5;34m…\u001b[0m │\n",
              "├───────────────────────────┼────────────────────────┼────────────────┼────────────────────────┤\n",
              "│ layer_normalization       │ (\u001b[38;5;45mNone\u001b[0m, \u001b[38;5;34m100\u001b[0m, \u001b[38;5;34m1024\u001b[0m)      │          \u001b[38;5;34m2,048\u001b[0m │ add_4[\u001b[38;5;34m0\u001b[0m][\u001b[38;5;34m0\u001b[0m]            │\n",
              "│ (\u001b[38;5;33mLayerNormalization\u001b[0m)      │                        │                │                        │\n",
              "├───────────────────────────┼────────────────────────┼────────────────┼────────────────────────┤\n",
              "│ global_average_pooling1d… │ (\u001b[38;5;45mNone\u001b[0m, \u001b[38;5;34m1024\u001b[0m)           │              \u001b[38;5;34m0\u001b[0m │ layer_normalization[\u001b[38;5;34m0\u001b[0m… │\n",
              "│ (\u001b[38;5;33mGlobalAveragePooling1D\u001b[0m)  │                        │                │                        │\n",
              "├───────────────────────────┼────────────────────────┼────────────────┼────────────────────────┤\n",
              "│ sentiment_output (\u001b[38;5;33mDense\u001b[0m)  │ (\u001b[38;5;45mNone\u001b[0m, \u001b[38;5;34m3\u001b[0m)              │          \u001b[38;5;34m3,075\u001b[0m │ global_average_poolin… │\n",
              "├───────────────────────────┼────────────────────────┼────────────────┼────────────────────────┤\n",
              "│ emotion_output (\u001b[38;5;33mDense\u001b[0m)    │ (\u001b[38;5;45mNone\u001b[0m, \u001b[38;5;34m7\u001b[0m)              │          \u001b[38;5;34m7,175\u001b[0m │ global_average_poolin… │\n",
              "└───────────────────────────┴────────────────────────┴────────────────┴────────────────────────┘\n"
            ],
            "text/html": [
              "<pre style=\"white-space:pre;overflow-x:auto;line-height:normal;font-family:Menlo,'DejaVu Sans Mono',consolas,'Courier New',monospace\">┏━━━━━━━━━━━━━━━━━━━━━━━━━━━┳━━━━━━━━━━━━━━━━━━━━━━━━┳━━━━━━━━━━━━━━━━┳━━━━━━━━━━━━━━━━━━━━━━━━┓\n",
              "┃<span style=\"font-weight: bold\"> Layer (type)              </span>┃<span style=\"font-weight: bold\"> Output Shape           </span>┃<span style=\"font-weight: bold\">        Param # </span>┃<span style=\"font-weight: bold\"> Connected to           </span>┃\n",
              "┡━━━━━━━━━━━━━━━━━━━━━━━━━━━╇━━━━━━━━━━━━━━━━━━━━━━━━╇━━━━━━━━━━━━━━━━╇━━━━━━━━━━━━━━━━━━━━━━━━┩\n",
              "│ input_layer_4             │ (<span style=\"color: #00d7ff; text-decoration-color: #00d7ff\">None</span>, <span style=\"color: #00af00; text-decoration-color: #00af00\">100</span>)            │              <span style=\"color: #00af00; text-decoration-color: #00af00\">0</span> │ -                      │\n",
              "│ (<span style=\"color: #0087ff; text-decoration-color: #0087ff\">InputLayer</span>)              │                        │                │                        │\n",
              "├───────────────────────────┼────────────────────────┼────────────────┼────────────────────────┤\n",
              "│ embedding_4 (<span style=\"color: #0087ff; text-decoration-color: #0087ff\">Embedding</span>)   │ (<span style=\"color: #00d7ff; text-decoration-color: #00d7ff\">None</span>, <span style=\"color: #00af00; text-decoration-color: #00af00\">100</span>, <span style=\"color: #00af00; text-decoration-color: #00af00\">128</span>)       │      <span style=\"color: #00af00; text-decoration-color: #00af00\">1,280,000</span> │ input_layer_4[<span style=\"color: #00af00; text-decoration-color: #00af00\">0</span>][<span style=\"color: #00af00; text-decoration-color: #00af00\">0</span>]    │\n",
              "├───────────────────────────┼────────────────────────┼────────────────┼────────────────────────┤\n",
              "│ not_equal_4 (<span style=\"color: #0087ff; text-decoration-color: #0087ff\">NotEqual</span>)    │ (<span style=\"color: #00d7ff; text-decoration-color: #00d7ff\">None</span>, <span style=\"color: #00af00; text-decoration-color: #00af00\">100</span>)            │              <span style=\"color: #00af00; text-decoration-color: #00af00\">0</span> │ input_layer_4[<span style=\"color: #00af00; text-decoration-color: #00af00\">0</span>][<span style=\"color: #00af00; text-decoration-color: #00af00\">0</span>]    │\n",
              "├───────────────────────────┼────────────────────────┼────────────────┼────────────────────────┤\n",
              "│ bidirectional_4           │ (<span style=\"color: #00d7ff; text-decoration-color: #00d7ff\">None</span>, <span style=\"color: #00af00; text-decoration-color: #00af00\">100</span>, <span style=\"color: #00af00; text-decoration-color: #00af00\">1024</span>)      │      <span style=\"color: #00af00; text-decoration-color: #00af00\">2,625,536</span> │ embedding_4[<span style=\"color: #00af00; text-decoration-color: #00af00\">0</span>][<span style=\"color: #00af00; text-decoration-color: #00af00\">0</span>],     │\n",
              "│ (<span style=\"color: #0087ff; text-decoration-color: #0087ff\">Bidirectional</span>)           │                        │                │ not_equal_4[<span style=\"color: #00af00; text-decoration-color: #00af00\">0</span>][<span style=\"color: #00af00; text-decoration-color: #00af00\">0</span>]      │\n",
              "├───────────────────────────┼────────────────────────┼────────────────┼────────────────────────┤\n",
              "│ multi_head_attention      │ (<span style=\"color: #00d7ff; text-decoration-color: #00d7ff\">None</span>, <span style=\"color: #00af00; text-decoration-color: #00af00\">100</span>, <span style=\"color: #00af00; text-decoration-color: #00af00\">1024</span>)      │      <span style=\"color: #00af00; text-decoration-color: #00af00\">8,395,776</span> │ bidirectional_4[<span style=\"color: #00af00; text-decoration-color: #00af00\">0</span>][<span style=\"color: #00af00; text-decoration-color: #00af00\">0</span>], │\n",
              "│ (<span style=\"color: #0087ff; text-decoration-color: #0087ff\">MultiHeadAttention</span>)      │                        │                │ bidirectional_4[<span style=\"color: #00af00; text-decoration-color: #00af00\">0</span>][<span style=\"color: #00af00; text-decoration-color: #00af00\">0</span>], │\n",
              "│                           │                        │                │ not_equal_4[<span style=\"color: #00af00; text-decoration-color: #00af00\">0</span>][<span style=\"color: #00af00; text-decoration-color: #00af00\">0</span>],     │\n",
              "│                           │                        │                │ not_equal_4[<span style=\"color: #00af00; text-decoration-color: #00af00\">0</span>][<span style=\"color: #00af00; text-decoration-color: #00af00\">0</span>]      │\n",
              "├───────────────────────────┼────────────────────────┼────────────────┼────────────────────────┤\n",
              "│ add_4 (<span style=\"color: #0087ff; text-decoration-color: #0087ff\">Add</span>)               │ (<span style=\"color: #00d7ff; text-decoration-color: #00d7ff\">None</span>, <span style=\"color: #00af00; text-decoration-color: #00af00\">100</span>, <span style=\"color: #00af00; text-decoration-color: #00af00\">1024</span>)      │              <span style=\"color: #00af00; text-decoration-color: #00af00\">0</span> │ bidirectional_4[<span style=\"color: #00af00; text-decoration-color: #00af00\">0</span>][<span style=\"color: #00af00; text-decoration-color: #00af00\">0</span>], │\n",
              "│                           │                        │                │ multi_head_attention[<span style=\"color: #00af00; text-decoration-color: #00af00\">…</span> │\n",
              "├───────────────────────────┼────────────────────────┼────────────────┼────────────────────────┤\n",
              "│ layer_normalization       │ (<span style=\"color: #00d7ff; text-decoration-color: #00d7ff\">None</span>, <span style=\"color: #00af00; text-decoration-color: #00af00\">100</span>, <span style=\"color: #00af00; text-decoration-color: #00af00\">1024</span>)      │          <span style=\"color: #00af00; text-decoration-color: #00af00\">2,048</span> │ add_4[<span style=\"color: #00af00; text-decoration-color: #00af00\">0</span>][<span style=\"color: #00af00; text-decoration-color: #00af00\">0</span>]            │\n",
              "│ (<span style=\"color: #0087ff; text-decoration-color: #0087ff\">LayerNormalization</span>)      │                        │                │                        │\n",
              "├───────────────────────────┼────────────────────────┼────────────────┼────────────────────────┤\n",
              "│ global_average_pooling1d… │ (<span style=\"color: #00d7ff; text-decoration-color: #00d7ff\">None</span>, <span style=\"color: #00af00; text-decoration-color: #00af00\">1024</span>)           │              <span style=\"color: #00af00; text-decoration-color: #00af00\">0</span> │ layer_normalization[<span style=\"color: #00af00; text-decoration-color: #00af00\">0</span>… │\n",
              "│ (<span style=\"color: #0087ff; text-decoration-color: #0087ff\">GlobalAveragePooling1D</span>)  │                        │                │                        │\n",
              "├───────────────────────────┼────────────────────────┼────────────────┼────────────────────────┤\n",
              "│ sentiment_output (<span style=\"color: #0087ff; text-decoration-color: #0087ff\">Dense</span>)  │ (<span style=\"color: #00d7ff; text-decoration-color: #00d7ff\">None</span>, <span style=\"color: #00af00; text-decoration-color: #00af00\">3</span>)              │          <span style=\"color: #00af00; text-decoration-color: #00af00\">3,075</span> │ global_average_poolin… │\n",
              "├───────────────────────────┼────────────────────────┼────────────────┼────────────────────────┤\n",
              "│ emotion_output (<span style=\"color: #0087ff; text-decoration-color: #0087ff\">Dense</span>)    │ (<span style=\"color: #00d7ff; text-decoration-color: #00d7ff\">None</span>, <span style=\"color: #00af00; text-decoration-color: #00af00\">7</span>)              │          <span style=\"color: #00af00; text-decoration-color: #00af00\">7,175</span> │ global_average_poolin… │\n",
              "└───────────────────────────┴────────────────────────┴────────────────┴────────────────────────┘\n",
              "</pre>\n"
            ]
          },
          "metadata": {}
        },
        {
          "output_type": "display_data",
          "data": {
            "text/plain": [
              "\u001b[1m Total params: \u001b[0m\u001b[38;5;34m12,313,610\u001b[0m (46.97 MB)\n"
            ],
            "text/html": [
              "<pre style=\"white-space:pre;overflow-x:auto;line-height:normal;font-family:Menlo,'DejaVu Sans Mono',consolas,'Courier New',monospace\"><span style=\"font-weight: bold\"> Total params: </span><span style=\"color: #00af00; text-decoration-color: #00af00\">12,313,610</span> (46.97 MB)\n",
              "</pre>\n"
            ]
          },
          "metadata": {}
        },
        {
          "output_type": "display_data",
          "data": {
            "text/plain": [
              "\u001b[1m Trainable params: \u001b[0m\u001b[38;5;34m12,313,610\u001b[0m (46.97 MB)\n"
            ],
            "text/html": [
              "<pre style=\"white-space:pre;overflow-x:auto;line-height:normal;font-family:Menlo,'DejaVu Sans Mono',consolas,'Courier New',monospace\"><span style=\"font-weight: bold\"> Trainable params: </span><span style=\"color: #00af00; text-decoration-color: #00af00\">12,313,610</span> (46.97 MB)\n",
              "</pre>\n"
            ]
          },
          "metadata": {}
        },
        {
          "output_type": "display_data",
          "data": {
            "text/plain": [
              "\u001b[1m Non-trainable params: \u001b[0m\u001b[38;5;34m0\u001b[0m (0.00 B)\n"
            ],
            "text/html": [
              "<pre style=\"white-space:pre;overflow-x:auto;line-height:normal;font-family:Menlo,'DejaVu Sans Mono',consolas,'Courier New',monospace\"><span style=\"font-weight: bold\"> Non-trainable params: </span><span style=\"color: #00af00; text-decoration-color: #00af00\">0</span> (0.00 B)\n",
              "</pre>\n"
            ]
          },
          "metadata": {}
        }
      ]
    },
    {
      "cell_type": "code",
      "source": [
        "# Dummy Data Loading (Replace with actual dataset)\n",
        "# Assuming X, y_sentiment, and y_emotion are loaded and preprocessed\n",
        "X = np.random.randint(1, VOCAB_SIZE, (5000, MAX_SEQUENCE_LENGTH))\n",
        "y_sentiment = np.random.randint(0, 3, 5000)\n",
        "y_emotion = np.random.randint(0, 7, 5000)\n"
      ],
      "metadata": {
        "id": "9OAt0AGJb0Sz"
      },
      "execution_count": null,
      "outputs": []
    },
    {
      "cell_type": "code",
      "source": [
        "# Splitting dataset properly\n",
        "X_train, X_val, y_train_sentiment, y_val_sentiment, y_train_emotion, y_val_emotion = train_test_split(\n",
        "    X, y_sentiment, y_emotion, test_size=0.2, random_state=42\n",
        ")"
      ],
      "metadata": {
        "id": "dg2bxFDjb3MD"
      },
      "execution_count": null,
      "outputs": []
    },
    {
      "cell_type": "code",
      "source": [
        "X_train, X_val, y_train_sentiment, y_val_sentiment, y_train_emotion, y_val_emotion = train_test_split(\n",
        "    X_train, y_train_sentiment, y_train_emotion, test_size=0.1, random_state=42\n",
        ")"
      ],
      "metadata": {
        "id": "f0pmMYPYb6Mc"
      },
      "execution_count": null,
      "outputs": []
    },
    {
      "cell_type": "code",
      "source": [
        "# Ensure labels are correctly formatted as NumPy arrays\n",
        "y_train_sentiment = np.array(y_train_sentiment, dtype=np.int32)\n",
        "y_test_sentiment = np.array(y_test_sentiment, dtype=np.int32)\n",
        "y_val_sentiment = np.array(y_val_sentiment, dtype=np.int32)\n",
        "\n",
        "y_train_emotion = np.array(y_train_emotion, dtype=np.int32)\n",
        "y_test_emotion = np.array(y_test_emotion, dtype=np.int32)\n",
        "y_val_emotion = np.array(y_val_emotion, dtype=np.int32)\n",
        "\n",
        "# Debugging: Check the shapes\n",
        "print(\"Shapes:\")\n",
        "print(\"X_train:\", X_train.shape)\n",
        "print(\"y_train_sentiment:\", y_train_sentiment.shape, \"Unique:\", np.unique(y_train_sentiment))\n",
        "print(\"y_train_emotion:\", y_train_emotion.shape, \"Unique:\", np.unique(y_train_emotion))\n"
      ],
      "metadata": {
        "colab": {
          "base_uri": "https://localhost:8080/"
        },
        "id": "bR0ISalTTx4i",
        "outputId": "1fae4829-01a0-40cb-9dc4-cd55177ec9e0"
      },
      "execution_count": null,
      "outputs": [
        {
          "output_type": "stream",
          "name": "stdout",
          "text": [
            "Shapes:\n",
            "X_train: (3600, 100)\n",
            "y_train_sentiment: (3600,) Unique: [0 1 2]\n",
            "y_train_emotion: (3600,) Unique: [0 1 2 3 4 5 6]\n"
          ]
        }
      ]
    },
    {
      "cell_type": "code",
      "source": [
        "print(\"Expected Input Shape:\", model.input_shape)\n",
        "print(\"Actual X_train Shape:\", X_train.shape)\n"
      ],
      "metadata": {
        "colab": {
          "base_uri": "https://localhost:8080/"
        },
        "id": "ieLJawPkev1B",
        "outputId": "4f9048c5-2b26-4cd4-8898-e969469be5aa"
      },
      "execution_count": null,
      "outputs": [
        {
          "output_type": "stream",
          "name": "stdout",
          "text": [
            "Expected Input Shape: (None, 100)\n",
            "Actual X_train Shape: (3600, 100)\n"
          ]
        }
      ]
    },
    {
      "cell_type": "code",
      "source": [
        "# Train the model\n",
        "from tensorflow.keras.callbacks import EarlyStopping\n",
        "\n",
        "# Early stopping to prevent overfitting\n",
        "early_stopping = EarlyStopping(monitor=\"val_loss\", patience=5, restore_best_weights=True)\n",
        "\n",
        "# Train the model\n",
        "history = model.fit(\n",
        "    X_train,\n",
        "    {\"sentiment\": y_train_sentiment, \"emotion\": y_train_emotion},\n",
        "    epochs=30,\n",
        "    batch_size=64,\n",
        "    validation_data=(X_test, {\"sentiment\": y_test_sentiment, \"emotion\": y_test_emotion}),\n",
        "    callbacks=[early_stopping]\n",
        ")\n"
      ],
      "metadata": {
        "colab": {
          "base_uri": "https://localhost:8080/",
          "height": 391
        },
        "id": "p9NZMLX6S0nS",
        "outputId": "b80546d1-4bb6-48be-98df-8a0ab73a18af"
      },
      "execution_count": null,
      "outputs": [
        {
          "output_type": "stream",
          "name": "stdout",
          "text": [
            "Epoch 1/30\n"
          ]
        },
        {
          "output_type": "error",
          "ename": "ValueError",
          "evalue": "Attr 'Toutput_types' of 'OptionalFromValue' Op passed list of length 0 less than minimum 1.",
          "traceback": [
            "\u001b[0;31m---------------------------------------------------------------------------\u001b[0m",
            "\u001b[0;31mValueError\u001b[0m                                Traceback (most recent call last)",
            "\u001b[0;32m<ipython-input-61-d4128e03951e>\u001b[0m in \u001b[0;36m<cell line: 0>\u001b[0;34m()\u001b[0m\n\u001b[1;32m      6\u001b[0m \u001b[0;34m\u001b[0m\u001b[0m\n\u001b[1;32m      7\u001b[0m \u001b[0;31m# Train the model\u001b[0m\u001b[0;34m\u001b[0m\u001b[0;34m\u001b[0m\u001b[0m\n\u001b[0;32m----> 8\u001b[0;31m history = model.fit(\n\u001b[0m\u001b[1;32m      9\u001b[0m     \u001b[0mX_train\u001b[0m\u001b[0;34m,\u001b[0m\u001b[0;34m\u001b[0m\u001b[0;34m\u001b[0m\u001b[0m\n\u001b[1;32m     10\u001b[0m     \u001b[0;34m{\u001b[0m\u001b[0;34m\"sentiment\"\u001b[0m\u001b[0;34m:\u001b[0m \u001b[0my_train_sentiment\u001b[0m\u001b[0;34m,\u001b[0m \u001b[0;34m\"emotion\"\u001b[0m\u001b[0;34m:\u001b[0m \u001b[0my_train_emotion\u001b[0m\u001b[0;34m}\u001b[0m\u001b[0;34m,\u001b[0m\u001b[0;34m\u001b[0m\u001b[0;34m\u001b[0m\u001b[0m\n",
            "\u001b[0;32m/usr/local/lib/python3.11/dist-packages/keras/src/utils/traceback_utils.py\u001b[0m in \u001b[0;36merror_handler\u001b[0;34m(*args, **kwargs)\u001b[0m\n\u001b[1;32m    120\u001b[0m             \u001b[0;31m# To get the full stack trace, call:\u001b[0m\u001b[0;34m\u001b[0m\u001b[0;34m\u001b[0m\u001b[0m\n\u001b[1;32m    121\u001b[0m             \u001b[0;31m# `keras.config.disable_traceback_filtering()`\u001b[0m\u001b[0;34m\u001b[0m\u001b[0;34m\u001b[0m\u001b[0m\n\u001b[0;32m--> 122\u001b[0;31m             \u001b[0;32mraise\u001b[0m \u001b[0me\u001b[0m\u001b[0;34m.\u001b[0m\u001b[0mwith_traceback\u001b[0m\u001b[0;34m(\u001b[0m\u001b[0mfiltered_tb\u001b[0m\u001b[0;34m)\u001b[0m \u001b[0;32mfrom\u001b[0m \u001b[0;32mNone\u001b[0m\u001b[0;34m\u001b[0m\u001b[0;34m\u001b[0m\u001b[0m\n\u001b[0m\u001b[1;32m    123\u001b[0m         \u001b[0;32mfinally\u001b[0m\u001b[0;34m:\u001b[0m\u001b[0;34m\u001b[0m\u001b[0;34m\u001b[0m\u001b[0m\n\u001b[1;32m    124\u001b[0m             \u001b[0;32mdel\u001b[0m \u001b[0mfiltered_tb\u001b[0m\u001b[0;34m\u001b[0m\u001b[0;34m\u001b[0m\u001b[0m\n",
            "\u001b[0;32m/usr/local/lib/python3.11/dist-packages/keras/src/backend/tensorflow/trainer.py\u001b[0m in \u001b[0;36mmulti_step_on_iterator\u001b[0;34m(iterator)\u001b[0m\n\u001b[1;32m    129\u001b[0m         \u001b[0;32mdef\u001b[0m \u001b[0mmulti_step_on_iterator\u001b[0m\u001b[0;34m(\u001b[0m\u001b[0miterator\u001b[0m\u001b[0;34m)\u001b[0m\u001b[0;34m:\u001b[0m\u001b[0;34m\u001b[0m\u001b[0;34m\u001b[0m\u001b[0m\n\u001b[1;32m    130\u001b[0m             \u001b[0;32mif\u001b[0m \u001b[0mself\u001b[0m\u001b[0;34m.\u001b[0m\u001b[0msteps_per_execution\u001b[0m \u001b[0;34m==\u001b[0m \u001b[0;36m1\u001b[0m\u001b[0;34m:\u001b[0m\u001b[0;34m\u001b[0m\u001b[0;34m\u001b[0m\u001b[0m\n\u001b[0;32m--> 131\u001b[0;31m                 return tf.experimental.Optional.from_value(\n\u001b[0m\u001b[1;32m    132\u001b[0m                     \u001b[0mone_step_on_data\u001b[0m\u001b[0;34m(\u001b[0m\u001b[0miterator\u001b[0m\u001b[0;34m.\u001b[0m\u001b[0mget_next\u001b[0m\u001b[0;34m(\u001b[0m\u001b[0;34m)\u001b[0m\u001b[0;34m)\u001b[0m\u001b[0;34m\u001b[0m\u001b[0;34m\u001b[0m\u001b[0m\n\u001b[1;32m    133\u001b[0m                 )\n",
            "\u001b[0;31mValueError\u001b[0m: Attr 'Toutput_types' of 'OptionalFromValue' Op passed list of length 0 less than minimum 1."
          ]
        }
      ]
    }
  ]
}