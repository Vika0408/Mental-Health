{
  "cells": [
    {
      "cell_type": "code",
      "execution_count": 1,
      "metadata": {
        "colab": {
          "base_uri": "https://localhost:8080/"
        },
        "id": "OlLXcbh3FyhJ",
        "outputId": "f3fa9fba-ad23-47e6-dbba-51cc337f62d1"
      },
      "outputs": [
        {
          "name": "stdout",
          "output_type": "stream",
          "text": [
            "Collecting librosa\n",
            "  Downloading librosa-0.11.0-py3-none-any.whl.metadata (8.7 kB)\n",
            "Collecting pandas\n",
            "  Using cached pandas-2.0.3-cp38-cp38-win_amd64.whl.metadata (18 kB)\n",
            "Requirement already satisfied: tensorflow in c:\\users\\dell\\onedrive\\desktop\\vanshika\\mental_health\\venv\\lib\\site-packages (2.13.0)\n",
            "Collecting scikit-learn\n",
            "  Using cached scikit_learn-1.3.2-cp38-cp38-win_amd64.whl.metadata (11 kB)\n",
            "Collecting matplotlib\n",
            "  Downloading matplotlib-3.7.5-cp38-cp38-win_amd64.whl.metadata (5.8 kB)\n",
            "Collecting audioread>=2.1.9 (from librosa)\n",
            "  Downloading audioread-3.0.1-py3-none-any.whl.metadata (8.4 kB)\n",
            "Collecting numba>=0.51.0 (from librosa)\n",
            "  Downloading numba-0.58.1-cp38-cp38-win_amd64.whl.metadata (2.8 kB)\n",
            "Requirement already satisfied: numpy>=1.22.3 in c:\\users\\dell\\onedrive\\desktop\\vanshika\\mental_health\\venv\\lib\\site-packages (from librosa) (1.24.3)\n",
            "Collecting scipy>=1.6.0 (from librosa)\n",
            "  Using cached scipy-1.10.1-cp38-cp38-win_amd64.whl.metadata (58 kB)\n",
            "Collecting joblib>=1.0 (from librosa)\n",
            "  Using cached joblib-1.4.2-py3-none-any.whl.metadata (5.4 kB)\n",
            "Requirement already satisfied: decorator>=4.3.0 in c:\\users\\dell\\onedrive\\desktop\\vanshika\\mental_health\\venv\\lib\\site-packages (from librosa) (5.2.1)\n",
            "Collecting soundfile>=0.12.1 (from librosa)\n",
            "  Downloading soundfile-0.13.1-py2.py3-none-win_amd64.whl.metadata (16 kB)\n",
            "Collecting pooch>=1.1 (from librosa)\n",
            "  Downloading pooch-1.8.2-py3-none-any.whl.metadata (10 kB)\n",
            "Collecting soxr>=0.3.2 (from librosa)\n",
            "  Downloading soxr-0.3.7-cp38-cp38-win_amd64.whl.metadata (5.7 kB)\n",
            "Requirement already satisfied: typing_extensions>=4.1.1 in c:\\users\\dell\\onedrive\\desktop\\vanshika\\mental_health\\venv\\lib\\site-packages (from librosa) (4.5.0)\n",
            "Collecting lazy_loader>=0.1 (from librosa)\n",
            "  Downloading lazy_loader-0.4-py3-none-any.whl.metadata (7.6 kB)\n",
            "Collecting msgpack>=1.0 (from librosa)\n",
            "  Downloading msgpack-1.1.0-cp38-cp38-win_amd64.whl.metadata (8.6 kB)\n",
            "Requirement already satisfied: python-dateutil>=2.8.2 in c:\\users\\dell\\onedrive\\desktop\\vanshika\\mental_health\\venv\\lib\\site-packages (from pandas) (2.9.0.post0)\n",
            "Collecting pytz>=2020.1 (from pandas)\n",
            "  Using cached pytz-2025.1-py2.py3-none-any.whl.metadata (22 kB)\n",
            "Collecting tzdata>=2022.1 (from pandas)\n",
            "  Using cached tzdata-2025.1-py2.py3-none-any.whl.metadata (1.4 kB)\n",
            "Requirement already satisfied: tensorflow-intel==2.13.0 in c:\\users\\dell\\onedrive\\desktop\\vanshika\\mental_health\\venv\\lib\\site-packages (from tensorflow) (2.13.0)\n",
            "Requirement already satisfied: absl-py>=1.0.0 in c:\\users\\dell\\onedrive\\desktop\\vanshika\\mental_health\\venv\\lib\\site-packages (from tensorflow-intel==2.13.0->tensorflow) (2.1.0)\n",
            "Requirement already satisfied: astunparse>=1.6.0 in c:\\users\\dell\\onedrive\\desktop\\vanshika\\mental_health\\venv\\lib\\site-packages (from tensorflow-intel==2.13.0->tensorflow) (1.6.3)\n",
            "Requirement already satisfied: flatbuffers>=23.1.21 in c:\\users\\dell\\onedrive\\desktop\\vanshika\\mental_health\\venv\\lib\\site-packages (from tensorflow-intel==2.13.0->tensorflow) (25.2.10)\n",
            "Requirement already satisfied: gast<=0.4.0,>=0.2.1 in c:\\users\\dell\\onedrive\\desktop\\vanshika\\mental_health\\venv\\lib\\site-packages (from tensorflow-intel==2.13.0->tensorflow) (0.4.0)\n",
            "Requirement already satisfied: google-pasta>=0.1.1 in c:\\users\\dell\\onedrive\\desktop\\vanshika\\mental_health\\venv\\lib\\site-packages (from tensorflow-intel==2.13.0->tensorflow) (0.2.0)\n",
            "Requirement already satisfied: h5py>=2.9.0 in c:\\users\\dell\\onedrive\\desktop\\vanshika\\mental_health\\venv\\lib\\site-packages (from tensorflow-intel==2.13.0->tensorflow) (3.11.0)\n",
            "Requirement already satisfied: libclang>=13.0.0 in c:\\users\\dell\\onedrive\\desktop\\vanshika\\mental_health\\venv\\lib\\site-packages (from tensorflow-intel==2.13.0->tensorflow) (18.1.1)\n",
            "Requirement already satisfied: opt-einsum>=2.3.2 in c:\\users\\dell\\onedrive\\desktop\\vanshika\\mental_health\\venv\\lib\\site-packages (from tensorflow-intel==2.13.0->tensorflow) (3.4.0)\n",
            "Requirement already satisfied: packaging in c:\\users\\dell\\onedrive\\desktop\\vanshika\\mental_health\\venv\\lib\\site-packages (from tensorflow-intel==2.13.0->tensorflow) (24.2)\n",
            "Requirement already satisfied: protobuf!=4.21.0,!=4.21.1,!=4.21.2,!=4.21.3,!=4.21.4,!=4.21.5,<5.0.0dev,>=3.20.3 in c:\\users\\dell\\onedrive\\desktop\\vanshika\\mental_health\\venv\\lib\\site-packages (from tensorflow-intel==2.13.0->tensorflow) (4.25.6)\n",
            "Requirement already satisfied: setuptools in c:\\users\\dell\\onedrive\\desktop\\vanshika\\mental_health\\venv\\lib\\site-packages (from tensorflow-intel==2.13.0->tensorflow) (41.2.0)\n",
            "Requirement already satisfied: six>=1.12.0 in c:\\users\\dell\\onedrive\\desktop\\vanshika\\mental_health\\venv\\lib\\site-packages (from tensorflow-intel==2.13.0->tensorflow) (1.17.0)\n",
            "Requirement already satisfied: termcolor>=1.1.0 in c:\\users\\dell\\onedrive\\desktop\\vanshika\\mental_health\\venv\\lib\\site-packages (from tensorflow-intel==2.13.0->tensorflow) (2.4.0)\n",
            "Requirement already satisfied: wrapt>=1.11.0 in c:\\users\\dell\\onedrive\\desktop\\vanshika\\mental_health\\venv\\lib\\site-packages (from tensorflow-intel==2.13.0->tensorflow) (1.17.2)\n",
            "Requirement already satisfied: grpcio<2.0,>=1.24.3 in c:\\users\\dell\\onedrive\\desktop\\vanshika\\mental_health\\venv\\lib\\site-packages (from tensorflow-intel==2.13.0->tensorflow) (1.70.0)\n",
            "Requirement already satisfied: tensorboard<2.14,>=2.13 in c:\\users\\dell\\onedrive\\desktop\\vanshika\\mental_health\\venv\\lib\\site-packages (from tensorflow-intel==2.13.0->tensorflow) (2.13.0)\n",
            "Requirement already satisfied: tensorflow-estimator<2.14,>=2.13.0 in c:\\users\\dell\\onedrive\\desktop\\vanshika\\mental_health\\venv\\lib\\site-packages (from tensorflow-intel==2.13.0->tensorflow) (2.13.0)\n",
            "Requirement already satisfied: keras<2.14,>=2.13.1 in c:\\users\\dell\\onedrive\\desktop\\vanshika\\mental_health\\venv\\lib\\site-packages (from tensorflow-intel==2.13.0->tensorflow) (2.13.1)\n",
            "Requirement already satisfied: tensorflow-io-gcs-filesystem>=0.23.1 in c:\\users\\dell\\onedrive\\desktop\\vanshika\\mental_health\\venv\\lib\\site-packages (from tensorflow-intel==2.13.0->tensorflow) (0.31.0)\n",
            "Collecting threadpoolctl>=2.0.0 (from scikit-learn)\n",
            "  Using cached threadpoolctl-3.5.0-py3-none-any.whl.metadata (13 kB)\n",
            "Collecting contourpy>=1.0.1 (from matplotlib)\n",
            "  Downloading contourpy-1.1.1-cp38-cp38-win_amd64.whl.metadata (5.9 kB)\n",
            "Collecting cycler>=0.10 (from matplotlib)\n",
            "  Using cached cycler-0.12.1-py3-none-any.whl.metadata (3.8 kB)\n",
            "Collecting fonttools>=4.22.0 (from matplotlib)\n",
            "  Downloading fonttools-4.56.0-cp38-cp38-win_amd64.whl.metadata (103 kB)\n",
            "Collecting kiwisolver>=1.0.1 (from matplotlib)\n",
            "  Downloading kiwisolver-1.4.7-cp38-cp38-win_amd64.whl.metadata (6.4 kB)\n",
            "Collecting pillow>=6.2.0 (from matplotlib)\n",
            "  Using cached pillow-10.4.0-cp38-cp38-win_amd64.whl.metadata (9.3 kB)\n",
            "Collecting pyparsing>=2.3.1 (from matplotlib)\n",
            "  Downloading pyparsing-3.1.4-py3-none-any.whl.metadata (5.1 kB)\n",
            "Collecting importlib-resources>=3.2.0 (from matplotlib)\n",
            "  Downloading importlib_resources-6.4.5-py3-none-any.whl.metadata (4.0 kB)\n",
            "Requirement already satisfied: zipp>=3.1.0 in c:\\users\\dell\\onedrive\\desktop\\vanshika\\mental_health\\venv\\lib\\site-packages (from importlib-resources>=3.2.0->matplotlib) (3.20.2)\n",
            "Collecting llvmlite<0.42,>=0.41.0dev0 (from numba>=0.51.0->librosa)\n",
            "  Downloading llvmlite-0.41.1-cp38-cp38-win_amd64.whl.metadata (4.9 kB)\n",
            "Requirement already satisfied: importlib-metadata in c:\\users\\dell\\onedrive\\desktop\\vanshika\\mental_health\\venv\\lib\\site-packages (from numba>=0.51.0->librosa) (8.5.0)\n",
            "Requirement already satisfied: platformdirs>=2.5.0 in c:\\users\\dell\\onedrive\\desktop\\vanshika\\mental_health\\venv\\lib\\site-packages (from pooch>=1.1->librosa) (4.3.6)\n",
            "Requirement already satisfied: requests>=2.19.0 in c:\\users\\dell\\onedrive\\desktop\\vanshika\\mental_health\\venv\\lib\\site-packages (from pooch>=1.1->librosa) (2.32.3)\n",
            "Collecting cffi>=1.0 (from soundfile>=0.12.1->librosa)\n",
            "  Downloading cffi-1.17.1-cp38-cp38-win_amd64.whl.metadata (1.6 kB)\n",
            "Requirement already satisfied: wheel<1.0,>=0.23.0 in c:\\users\\dell\\onedrive\\desktop\\vanshika\\mental_health\\venv\\lib\\site-packages (from astunparse>=1.6.0->tensorflow-intel==2.13.0->tensorflow) (0.45.1)\n",
            "Collecting pycparser (from cffi>=1.0->soundfile>=0.12.1->librosa)\n",
            "  Using cached pycparser-2.22-py3-none-any.whl.metadata (943 bytes)\n",
            "Requirement already satisfied: charset-normalizer<4,>=2 in c:\\users\\dell\\onedrive\\desktop\\vanshika\\mental_health\\venv\\lib\\site-packages (from requests>=2.19.0->pooch>=1.1->librosa) (3.4.1)\n",
            "Requirement already satisfied: idna<4,>=2.5 in c:\\users\\dell\\onedrive\\desktop\\vanshika\\mental_health\\venv\\lib\\site-packages (from requests>=2.19.0->pooch>=1.1->librosa) (3.10)\n",
            "Requirement already satisfied: urllib3<3,>=1.21.1 in c:\\users\\dell\\onedrive\\desktop\\vanshika\\mental_health\\venv\\lib\\site-packages (from requests>=2.19.0->pooch>=1.1->librosa) (2.2.3)\n",
            "Requirement already satisfied: certifi>=2017.4.17 in c:\\users\\dell\\onedrive\\desktop\\vanshika\\mental_health\\venv\\lib\\site-packages (from requests>=2.19.0->pooch>=1.1->librosa) (2025.1.31)\n",
            "Requirement already satisfied: google-auth<3,>=1.6.3 in c:\\users\\dell\\onedrive\\desktop\\vanshika\\mental_health\\venv\\lib\\site-packages (from tensorboard<2.14,>=2.13->tensorflow-intel==2.13.0->tensorflow) (2.38.0)\n",
            "Requirement already satisfied: google-auth-oauthlib<1.1,>=0.5 in c:\\users\\dell\\onedrive\\desktop\\vanshika\\mental_health\\venv\\lib\\site-packages (from tensorboard<2.14,>=2.13->tensorflow-intel==2.13.0->tensorflow) (1.0.0)\n",
            "Requirement already satisfied: markdown>=2.6.8 in c:\\users\\dell\\onedrive\\desktop\\vanshika\\mental_health\\venv\\lib\\site-packages (from tensorboard<2.14,>=2.13->tensorflow-intel==2.13.0->tensorflow) (3.7)\n",
            "Requirement already satisfied: tensorboard-data-server<0.8.0,>=0.7.0 in c:\\users\\dell\\onedrive\\desktop\\vanshika\\mental_health\\venv\\lib\\site-packages (from tensorboard<2.14,>=2.13->tensorflow-intel==2.13.0->tensorflow) (0.7.2)\n",
            "Requirement already satisfied: werkzeug>=1.0.1 in c:\\users\\dell\\onedrive\\desktop\\vanshika\\mental_health\\venv\\lib\\site-packages (from tensorboard<2.14,>=2.13->tensorflow-intel==2.13.0->tensorflow) (3.0.6)\n",
            "Requirement already satisfied: cachetools<6.0,>=2.0.0 in c:\\users\\dell\\onedrive\\desktop\\vanshika\\mental_health\\venv\\lib\\site-packages (from google-auth<3,>=1.6.3->tensorboard<2.14,>=2.13->tensorflow-intel==2.13.0->tensorflow) (5.5.2)\n",
            "Requirement already satisfied: pyasn1-modules>=0.2.1 in c:\\users\\dell\\onedrive\\desktop\\vanshika\\mental_health\\venv\\lib\\site-packages (from google-auth<3,>=1.6.3->tensorboard<2.14,>=2.13->tensorflow-intel==2.13.0->tensorflow) (0.4.1)\n",
            "Requirement already satisfied: rsa<5,>=3.1.4 in c:\\users\\dell\\onedrive\\desktop\\vanshika\\mental_health\\venv\\lib\\site-packages (from google-auth<3,>=1.6.3->tensorboard<2.14,>=2.13->tensorflow-intel==2.13.0->tensorflow) (4.9)\n",
            "Requirement already satisfied: requests-oauthlib>=0.7.0 in c:\\users\\dell\\onedrive\\desktop\\vanshika\\mental_health\\venv\\lib\\site-packages (from google-auth-oauthlib<1.1,>=0.5->tensorboard<2.14,>=2.13->tensorflow-intel==2.13.0->tensorflow) (2.0.0)\n",
            "Requirement already satisfied: MarkupSafe>=2.1.1 in c:\\users\\dell\\onedrive\\desktop\\vanshika\\mental_health\\venv\\lib\\site-packages (from werkzeug>=1.0.1->tensorboard<2.14,>=2.13->tensorflow-intel==2.13.0->tensorflow) (2.1.5)\n",
            "Requirement already satisfied: pyasn1<0.7.0,>=0.4.6 in c:\\users\\dell\\onedrive\\desktop\\vanshika\\mental_health\\venv\\lib\\site-packages (from pyasn1-modules>=0.2.1->google-auth<3,>=1.6.3->tensorboard<2.14,>=2.13->tensorflow-intel==2.13.0->tensorflow) (0.6.1)\n",
            "Requirement already satisfied: oauthlib>=3.0.0 in c:\\users\\dell\\onedrive\\desktop\\vanshika\\mental_health\\venv\\lib\\site-packages (from requests-oauthlib>=0.7.0->google-auth-oauthlib<1.1,>=0.5->tensorboard<2.14,>=2.13->tensorflow-intel==2.13.0->tensorflow) (3.2.2)\n",
            "Downloading librosa-0.11.0-py3-none-any.whl (260 kB)\n",
            "Using cached pandas-2.0.3-cp38-cp38-win_amd64.whl (10.8 MB)\n",
            "Using cached scikit_learn-1.3.2-cp38-cp38-win_amd64.whl (9.3 MB)\n",
            "Downloading matplotlib-3.7.5-cp38-cp38-win_amd64.whl (7.5 MB)\n",
            "   ---------------------------------------- 0.0/7.5 MB ? eta -:--:--\n",
            "   -------- ------------------------------- 1.6/7.5 MB 9.3 MB/s eta 0:00:01\n",
            "   ------------------- -------------------- 3.7/7.5 MB 9.5 MB/s eta 0:00:01\n",
            "   ------------------------------ --------- 5.8/7.5 MB 9.8 MB/s eta 0:00:01\n",
            "   ---------------------------------------- 7.5/7.5 MB 9.5 MB/s eta 0:00:00\n",
            "Downloading audioread-3.0.1-py3-none-any.whl (23 kB)\n",
            "Downloading contourpy-1.1.1-cp38-cp38-win_amd64.whl (477 kB)\n",
            "Using cached cycler-0.12.1-py3-none-any.whl (8.3 kB)\n",
            "Downloading fonttools-4.56.0-cp38-cp38-win_amd64.whl (1.5 MB)\n",
            "   ---------------------------------------- 0.0/1.5 MB ? eta -:--:--\n",
            "   ---------------------------------------- 1.5/1.5 MB 8.1 MB/s eta 0:00:00\n",
            "Downloading importlib_resources-6.4.5-py3-none-any.whl (36 kB)\n",
            "Using cached joblib-1.4.2-py3-none-any.whl (301 kB)\n",
            "Downloading kiwisolver-1.4.7-cp38-cp38-win_amd64.whl (55 kB)\n",
            "Downloading lazy_loader-0.4-py3-none-any.whl (12 kB)\n",
            "Downloading msgpack-1.1.0-cp38-cp38-win_amd64.whl (74 kB)\n",
            "Downloading numba-0.58.1-cp38-cp38-win_amd64.whl (2.6 MB)\n",
            "   ---------------------------------------- 0.0/2.6 MB ? eta -:--:--\n",
            "   --------------------------- ------------ 1.8/2.6 MB 11.2 MB/s eta 0:00:01\n",
            "   ---------------------------------------- 2.6/2.6 MB 9.5 MB/s eta 0:00:00\n",
            "Using cached pillow-10.4.0-cp38-cp38-win_amd64.whl (2.6 MB)\n",
            "Downloading pooch-1.8.2-py3-none-any.whl (64 kB)\n",
            "Downloading pyparsing-3.1.4-py3-none-any.whl (104 kB)\n",
            "Using cached pytz-2025.1-py2.py3-none-any.whl (507 kB)\n",
            "Using cached scipy-1.10.1-cp38-cp38-win_amd64.whl (42.2 MB)\n",
            "Downloading soundfile-0.13.1-py2.py3-none-win_amd64.whl (1.0 MB)\n",
            "   ---------------------------------------- 0.0/1.0 MB ? eta -:--:--\n",
            "   ---------------------------------------- 1.0/1.0 MB 9.7 MB/s eta 0:00:00\n",
            "Downloading soxr-0.3.7-cp38-cp38-win_amd64.whl (184 kB)\n",
            "Using cached threadpoolctl-3.5.0-py3-none-any.whl (18 kB)\n",
            "Using cached tzdata-2025.1-py2.py3-none-any.whl (346 kB)\n",
            "Downloading cffi-1.17.1-cp38-cp38-win_amd64.whl (181 kB)\n",
            "Downloading llvmlite-0.41.1-cp38-cp38-win_amd64.whl (28.1 MB)\n",
            "   ---------------------------------------- 0.0/28.1 MB ? eta -:--:--\n",
            "   -- ------------------------------------- 2.1/28.1 MB 9.8 MB/s eta 0:00:03\n",
            "   ------ --------------------------------- 4.5/28.1 MB 10.3 MB/s eta 0:00:03\n",
            "   --------- ------------------------------ 6.6/28.1 MB 10.1 MB/s eta 0:00:03\n",
            "   ----------- ---------------------------- 8.4/28.1 MB 9.8 MB/s eta 0:00:03\n",
            "   -------------- ------------------------- 10.5/28.1 MB 9.9 MB/s eta 0:00:02\n",
            "   ----------------- ---------------------- 12.6/28.1 MB 9.9 MB/s eta 0:00:02\n",
            "   -------------------- ------------------- 14.2/28.1 MB 9.5 MB/s eta 0:00:02\n",
            "   ---------------------- ----------------- 15.7/28.1 MB 9.4 MB/s eta 0:00:02\n",
            "   ------------------------- -------------- 18.1/28.1 MB 9.4 MB/s eta 0:00:02\n",
            "   ---------------------------- ----------- 20.2/28.1 MB 9.5 MB/s eta 0:00:01\n",
            "   ------------------------------- -------- 22.3/28.1 MB 9.5 MB/s eta 0:00:01\n",
            "   ---------------------------------- ----- 24.4/28.1 MB 9.5 MB/s eta 0:00:01\n",
            "   ------------------------------------- -- 26.5/28.1 MB 9.5 MB/s eta 0:00:01\n",
            "   ---------------------------------------  28.0/28.1 MB 9.5 MB/s eta 0:00:01\n",
            "   ---------------------------------------- 28.1/28.1 MB 9.3 MB/s eta 0:00:00\n",
            "Using cached pycparser-2.22-py3-none-any.whl (117 kB)\n",
            "Installing collected packages: pytz, tzdata, threadpoolctl, soxr, scipy, pyparsing, pycparser, pillow, msgpack, llvmlite, lazy_loader, kiwisolver, joblib, importlib-resources, fonttools, cycler, contourpy, audioread, scikit-learn, pooch, pandas, numba, matplotlib, cffi, soundfile, librosa\n",
            "Successfully installed audioread-3.0.1 cffi-1.17.1 contourpy-1.1.1 cycler-0.12.1 fonttools-4.56.0 importlib-resources-6.4.5 joblib-1.4.2 kiwisolver-1.4.7 lazy_loader-0.4 librosa-0.11.0 llvmlite-0.41.1 matplotlib-3.7.5 msgpack-1.1.0 numba-0.58.1 pandas-2.0.3 pillow-10.4.0 pooch-1.8.2 pycparser-2.22 pyparsing-3.1.4 pytz-2025.1 scikit-learn-1.3.2 scipy-1.10.1 soundfile-0.13.1 soxr-0.3.7 threadpoolctl-3.5.0 tzdata-2025.1\n"
          ]
        }
      ],
      "source": [
        "!pip install librosa pandas tensorflow scikit-learn matplotlib"
      ]
    },
    {
      "cell_type": "code",
      "execution_count": 2,
      "metadata": {
        "id": "Dyod7Nt2H08Y"
      },
      "outputs": [],
      "source": [
        "import os\n",
        "import librosa\n",
        "import numpy as np\n",
        "import pandas as pd\n",
        "import matplotlib.pyplot as plt\n",
        "import zipfile\n",
        "import shutil\n",
        "import random\n",
        "from sklearn.model_selection import train_test_split\n",
        "from sklearn.preprocessing import LabelEncoder\n",
        "import tensorflow as tf\n",
        "from tensorflow.keras.models import Sequential\n",
        "from tensorflow.keras.layers import Conv1D, MaxPooling1D, Flatten, Dense, LSTM, Dropout, Input"
      ]
    },
    {
      "cell_type": "code",
      "execution_count": 3,
      "metadata": {
        "id": "rI11C0cFH7xz"
      },
      "outputs": [],
      "source": [
        "zip_path = \"archive (3).zip\"\n",
        "extract_path = \"extracted_dataset\""
      ]
    },
    {
      "cell_type": "code",
      "execution_count": 4,
      "metadata": {
        "id": "WjgO56n4LCqM"
      },
      "outputs": [],
      "source": [
        "shutil.unpack_archive(zip_path, extract_path)"
      ]
    },
    {
      "cell_type": "code",
      "execution_count": 5,
      "metadata": {
        "id": "_3AdGTf_LHlD"
      },
      "outputs": [],
      "source": [
        "dataset_path = extract_path"
      ]
    },
    {
      "cell_type": "code",
      "execution_count": 6,
      "metadata": {
        "id": "xkZY0ffALLZ6"
      },
      "outputs": [],
      "source": [
        "def extract_features(file_path, max_pad_length=174):\n",
        "    try:\n",
        "        audio, sample_rate = librosa.load(file_path, sr=22050)\n",
        "        mfccs = librosa.feature.mfcc(y=audio, sr=sample_rate, n_mfcc=40)\n",
        "        pad_width = max_pad_length - mfccs.shape[1]\n",
        "        mfccs = np.pad(mfccs, pad_width=((0, 0), (0, max(0, pad_width))), mode='constant')\n",
        "        return mfccs.T  # Transposing to (timesteps, features)\n",
        "    except Exception as e:\n",
        "        print(f\"Error processing {file_path}: {e}\")\n",
        "        return None"
      ]
    },
    {
      "cell_type": "code",
      "execution_count": 7,
      "metadata": {
        "id": "Yd8vf6D1LRma"
      },
      "outputs": [],
      "source": [
        "audio_files = []\n",
        "labels = []"
      ]
    },
    {
      "cell_type": "code",
      "execution_count": 8,
      "metadata": {
        "id": "w1FSFMHNLViW"
      },
      "outputs": [],
      "source": [
        "for root, dirs, files in os.walk(dataset_path):\n",
        "    for file in files:\n",
        "        if file.endswith(\".wav\"):\n",
        "            file_path = os.path.join(root, file)\n",
        "            label = os.path.basename(os.path.dirname(file_path))  # Use parent folder name as label\n",
        "            features = extract_features(file_path)\n",
        "            if features is not None:\n",
        "                audio_files.append(features)\n",
        "                labels.append(label)"
      ]
    },
    {
      "cell_type": "code",
      "execution_count": 9,
      "metadata": {
        "id": "aRIX8arJMBTb"
      },
      "outputs": [],
      "source": [
        "# Convert to numpy arrays\n",
        "if audio_files:\n",
        "    audio_features = np.array(audio_files)\n",
        "    labels = np.array(labels)\n",
        "else:\n",
        "    raise ValueError(\"No audio files were loaded. Check dataset path and file format.\")"
      ]
    },
    {
      "cell_type": "code",
      "execution_count": 10,
      "metadata": {
        "id": "8TAvR15nMDHX"
      },
      "outputs": [],
      "source": [
        "# Dynamically detect emotion categories\n",
        "emotion_categories = sorted(set(labels))  # Extract unique labels from dataset\n",
        "encoder = LabelEncoder()\n",
        "encoder.fit(emotion_categories)\n",
        "y = encoder.transform(labels)"
      ]
    },
    {
      "cell_type": "code",
      "execution_count": 11,
      "metadata": {
        "id": "n1LiPItQMHJf"
      },
      "outputs": [],
      "source": [
        "# Train-test split\n",
        "X_train, X_test, y_train, y_test = train_test_split(audio_features, y, test_size=0.2, random_state=42)"
      ]
    },
    {
      "cell_type": "code",
      "execution_count": 12,
      "metadata": {
        "id": "rR4cOwTgP2Bb"
      },
      "outputs": [],
      "source": [
        "# Adjust input shape based on extracted features\n",
        "input_shape = X_train.shape[1:]"
      ]
    },
    {
      "cell_type": "code",
      "execution_count": 13,
      "metadata": {
        "id": "0ss8_InVMNqV"
      },
      "outputs": [],
      "source": [
        "# Build Model\n",
        "model = Sequential([\n",
        "    Input(shape=input_shape),\n",
        "    Conv1D(64, kernel_size=3, activation='relu'),\n",
        "    MaxPooling1D(pool_size=2),\n",
        "    Dropout(0.2),\n",
        "    LSTM(128, return_sequences=True),\n",
        "    LSTM(128),\n",
        "    Dense(64, activation='relu'),\n",
        "    Dense(32, activation='relu'),\n",
        "    Dense(len(emotion_categories), activation='softmax')\n",
        "])"
      ]
    },
    {
      "cell_type": "code",
      "execution_count": 14,
      "metadata": {
        "id": "M_SEbB5yMSNt"
      },
      "outputs": [],
      "source": [
        "model.compile(loss='sparse_categorical_crossentropy', optimizer='adam', metrics=['accuracy'])"
      ]
    },
    {
      "cell_type": "code",
      "execution_count": 15,
      "metadata": {
        "colab": {
          "base_uri": "https://localhost:8080/"
        },
        "id": "TS0ICdkeMZ-K",
        "outputId": "262fc67c-0a74-4772-ea08-6d2b163c998c"
      },
      "outputs": [
        {
          "name": "stdout",
          "output_type": "stream",
          "text": [
            "Epoch 1/25\n",
            "194/194 [==============================] - 81s 339ms/step - loss: 0.8760 - accuracy: 0.6786 - val_loss: 0.7570 - val_accuracy: 0.7414\n",
            "Epoch 2/25\n",
            "194/194 [==============================] - 64s 330ms/step - loss: 0.6675 - accuracy: 0.7558 - val_loss: 0.5633 - val_accuracy: 0.7841\n",
            "Epoch 3/25\n",
            "194/194 [==============================] - 57s 294ms/step - loss: 0.4871 - accuracy: 0.8211 - val_loss: 0.4402 - val_accuracy: 0.8145\n",
            "Epoch 4/25\n",
            "194/194 [==============================] - 53s 272ms/step - loss: 0.4053 - accuracy: 0.8529 - val_loss: 0.4002 - val_accuracy: 0.8455\n",
            "Epoch 5/25\n",
            "194/194 [==============================] - 49s 252ms/step - loss: 0.3506 - accuracy: 0.8715 - val_loss: 0.4261 - val_accuracy: 0.8436\n",
            "Epoch 6/25\n",
            "194/194 [==============================] - 49s 251ms/step - loss: 0.3083 - accuracy: 0.8891 - val_loss: 0.3294 - val_accuracy: 0.8798\n",
            "Epoch 7/25\n",
            "194/194 [==============================] - 47s 243ms/step - loss: 0.2755 - accuracy: 0.9008 - val_loss: 0.3362 - val_accuracy: 0.8901\n",
            "Epoch 8/25\n",
            "194/194 [==============================] - 47s 245ms/step - loss: 0.2556 - accuracy: 0.9071 - val_loss: 0.2789 - val_accuracy: 0.9037\n",
            "Epoch 9/25\n",
            "194/194 [==============================] - 47s 244ms/step - loss: 0.2358 - accuracy: 0.9156 - val_loss: 0.2516 - val_accuracy: 0.9134\n",
            "Epoch 10/25\n",
            "194/194 [==============================] - 47s 242ms/step - loss: 0.2138 - accuracy: 0.9252 - val_loss: 0.2428 - val_accuracy: 0.9218\n",
            "Epoch 11/25\n",
            "194/194 [==============================] - 46s 239ms/step - loss: 0.1995 - accuracy: 0.9278 - val_loss: 0.2662 - val_accuracy: 0.9101\n",
            "Epoch 12/25\n",
            "194/194 [==============================] - 45s 232ms/step - loss: 0.1719 - accuracy: 0.9373 - val_loss: 0.2195 - val_accuracy: 0.9218\n",
            "Epoch 13/25\n",
            "194/194 [==============================] - 48s 246ms/step - loss: 0.1620 - accuracy: 0.9397 - val_loss: 0.1921 - val_accuracy: 0.9405\n",
            "Epoch 14/25\n",
            "194/194 [==============================] - 42s 218ms/step - loss: 0.1790 - accuracy: 0.9362 - val_loss: 0.2404 - val_accuracy: 0.9147\n",
            "Epoch 15/25\n",
            "194/194 [==============================] - 44s 230ms/step - loss: 0.1614 - accuracy: 0.9413 - val_loss: 0.2279 - val_accuracy: 0.9250\n",
            "Epoch 16/25\n",
            "194/194 [==============================] - 43s 220ms/step - loss: 0.1484 - accuracy: 0.9459 - val_loss: 0.2106 - val_accuracy: 0.9270\n",
            "Epoch 17/25\n",
            "194/194 [==============================] - 42s 217ms/step - loss: 0.1306 - accuracy: 0.9504 - val_loss: 0.1945 - val_accuracy: 0.9367\n",
            "Epoch 18/25\n",
            "194/194 [==============================] - 44s 227ms/step - loss: 0.1336 - accuracy: 0.9527 - val_loss: 0.2413 - val_accuracy: 0.9069\n",
            "Epoch 19/25\n",
            "194/194 [==============================] - 44s 225ms/step - loss: 0.1300 - accuracy: 0.9541 - val_loss: 0.1710 - val_accuracy: 0.9476\n",
            "Epoch 20/25\n",
            "194/194 [==============================] - 43s 223ms/step - loss: 0.1161 - accuracy: 0.9591 - val_loss: 0.1870 - val_accuracy: 0.9282\n",
            "Epoch 21/25\n",
            "194/194 [==============================] - 39s 200ms/step - loss: 0.1155 - accuracy: 0.9573 - val_loss: 0.1853 - val_accuracy: 0.9367\n",
            "Epoch 22/25\n",
            "194/194 [==============================] - 44s 228ms/step - loss: 0.1274 - accuracy: 0.9520 - val_loss: 0.2313 - val_accuracy: 0.9257\n",
            "Epoch 23/25\n",
            "194/194 [==============================] - 44s 228ms/step - loss: 0.1053 - accuracy: 0.9627 - val_loss: 0.1772 - val_accuracy: 0.9444\n",
            "Epoch 24/25\n",
            "194/194 [==============================] - 46s 238ms/step - loss: 0.0969 - accuracy: 0.9649 - val_loss: 0.1886 - val_accuracy: 0.9341\n",
            "Epoch 25/25\n",
            "194/194 [==============================] - 44s 225ms/step - loss: 0.0938 - accuracy: 0.9644 - val_loss: 0.1882 - val_accuracy: 0.9405\n"
          ]
        }
      ],
      "source": [
        "# Train Model\n",
        "history = model.fit(X_train, y_train, epochs=25, batch_size=32, validation_data=(X_test, y_test))"
      ]
    },
    {
      "cell_type": "code",
      "execution_count": 16,
      "metadata": {
        "id": "AeexmbRaNMEe"
      },
      "outputs": [],
      "source": [
        "# Save Model\n",
        "model.save(\"mental_health_emotion_model.keras\")"
      ]
    }
  ],
  "metadata": {
    "colab": {
      "provenance": []
    },
    "kernelspec": {
      "display_name": "venv",
      "language": "python",
      "name": "python3"
    },
    "language_info": {
      "codemirror_mode": {
        "name": "ipython",
        "version": 3
      },
      "file_extension": ".py",
      "mimetype": "text/x-python",
      "name": "python",
      "nbconvert_exporter": "python",
      "pygments_lexer": "ipython3",
      "version": "3.8.0"
    }
  },
  "nbformat": 4,
  "nbformat_minor": 0
}
